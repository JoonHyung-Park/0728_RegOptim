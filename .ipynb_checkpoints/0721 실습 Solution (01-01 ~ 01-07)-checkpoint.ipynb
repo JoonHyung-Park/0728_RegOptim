{
 "cells": [
  {
   "cell_type": "markdown",
   "metadata": {},
   "source": [
    "## 0721 딥러닝 정규화 및 최적화 실습  Solution (01-01 ~ 01-07)\n"
   ]
  },
  {
   "cell_type": "markdown",
   "metadata": {},
   "source": [
    "#### 01-02 Early stopping solution"
   ]
  },
  {
   "cell_type": "markdown",
   "metadata": {},
   "source": [
    "1)\n",
    "```python\n",
    "valid_loss_value, valid_accuracy_value = session.run(\n",
    "            [loss, accuracy],\n",
    "            feed_dict={\n",
    "                x: x_valid,\n",
    "                y: y_valid\n",
    "            })\n",
    "```\n",
    "\n",
    "2)\n",
    "\n",
    "```python\n",
    "\n",
    "if max_valid_accuracy < valid_accuracy_value:\n",
    "            max_valid_accuracy = valid_accuracy_value \n",
    "            max_valid_epoch_idx = epoch_idx\n",
    "            final_test_accuracy = test_accuracy_value\n",
    "\n",
    "```"
   ]
  },
  {
   "cell_type": "markdown",
   "metadata": {},
   "source": [
    "#### 01-03 Input Layer Stabilization solution"
   ]
  },
  {
   "cell_type": "markdown",
   "metadata": {},
   "source": [
    "1) zero-one Normalization\n",
    "\n",
    "```python\n",
    "\n",
    "x_train = (x_train.astype(np.float64)) / 255.0\n",
    "x_valid = (x_valid.astype(np.float64)) / 255.0\n",
    "x_test = (x_test.astype(np.float64)) / 255.0\n",
    "\n",
    "```"
   ]
  },
  {
   "cell_type": "markdown",
   "metadata": {},
   "source": [
    "#### 01-04 Loss_penalty solution "
   ]
  },
  {
   "cell_type": "markdown",
   "metadata": {},
   "source": [
    "1) L2 loss penalty\n",
    "\n",
    "```python\n",
    "regularization_loss = tf.add_n([tf.reduce_sum(tf.square(w)) for w in weights])\n",
    "\n",
    "```\n",
    "\n",
    "2) L1 loss penalty\n",
    "```python\n",
    "regularization_loss = tf.add_n([tf.reduce_sum(tf.math.abs(w)) for w in weights])\n",
    "\n",
    "```"
   ]
  },
  {
   "cell_type": "markdown",
   "metadata": {},
   "source": [
    "#### 01-05 Hidden layer stabilization solution "
   ]
  },
  {
   "cell_type": "markdown",
   "metadata": {},
   "source": [
    "1) Layer normalization\n",
    "\n",
    "```python\n",
    "layer = tf.contrib.layers.layer_norm(layer)\n",
    "```"
   ]
  },
  {
   "cell_type": "markdown",
   "metadata": {},
   "source": [
    "#### 01-06 Dropout solution "
   ]
  },
  {
   "cell_type": "markdown",
   "metadata": {},
   "source": [
    "Q2) training 단계에서만 dropout을 해줘야하는 것이 핵심\n",
    "test 단계에서도 network를 dropout해주면 성능이 하락됩니다.\n",
    "tf.nn.dropout을 단순히 그냥 사용하면 test단게에서도 dropout이 되어 성능하락이 발생\n",
    "\n",
    "Q3) \n",
    "\n",
    "```python\n",
    "layer = tf.cond(training, lambda: tf.nn.dropout(layer, keep_prob=0.5), lambda: layer)\n",
    "```\n",
    "\n",
    "Q4)\n",
    "\n",
    "training과 test과정에서의 scale을 일치시켜주기 위해서 입니다.\n",
    "training단계에서는 몇몇 hidden node들이 비활성화 되어지기 때문에 통상적으로 다음 layer에 넘어가는 activation value들이 적어, 이를 보상해주기 위해  scalining이 필요합니다. \n",
    "\n",
    "Q5)\n",
    "\n",
    "```python \n",
    "layer = tf.keras.layers.GaussianDropout(rate=0.5)(layer, training=training)\n",
    "```"
   ]
  },
  {
   "cell_type": "markdown",
   "metadata": {},
   "source": [
    "#### 01-07 Augmentation solution "
   ]
  },
  {
   "cell_type": "markdown",
   "metadata": {},
   "source": [
    "Q1) Gaussian noise term 앞에 constant를 주어 noise 조절가능 \n",
    "```python\n",
    " tf.cond(training, lambda: tf.random.normal(tf.shape(x), mean=0.0, stddev=50), lambda: tf.zeros_like(x))\n",
    "```\n",
    "Q2) \n",
    "함수에 dataset을 넣어주기전에 dataset reshape 필요 (N, H, W, C)  \n",
    "    (ex. x_train = x_train.reshape(-1,28,28,1))\n",
    "\n",
    "```python\n",
    "\n",
    "def augment_data(dataset, dataset_labels, random_rotation=True, random_shear=True,\n",
    "                 random_shift=True, random_zoom=True):\n",
    "    augmented image = []\n",
    "    augmented_image_labels = []\n",
    "\n",
    "    for num in range (0, dataset.shape[0]):\n",
    "\n",
    "        # Original image\n",
    "        augmented_image.append(dataset[num])\n",
    "        augmented_image_labels.append(dataset_labels[num])\n",
    "\n",
    "        if random_rotation:\n",
    "            augmented_image.append(tf.contrib.keras.preprocessing.image.random_rotation(dataset[num], 30 ,\n",
    "                row_axis = 0, col_axis = 1, channel_axis = 2))\n",
    "            augmented_image_labels.append(dataset_labels[num])\n",
    "        if random_shear:\n",
    "            augmented_image.append(tf.contrib.keras.preprocessing.image.random_shear(dataset[num], 0.3 ,\n",
    "                row_axis = 0, col_axis = 1, channel_axis = 2))\n",
    "            augmented_image_labels.append(dataset_labels[num])\n",
    "        if random_shift:\n",
    "            augmented_image.append(tf.contrib.keras.preprocessing.image.random_shift(dataset[num], 0.3, 0.3 ,\n",
    "                row_axis = 0, col_axis = 1, channel_axis = 2))\n",
    "            augmented_image_labels.append(dataset_labels[num])\n",
    "        if random_zoom:\n",
    "            augmented_image.append(tf.contrib.keras.preprocessing.image.random_zoom(dataset[num], (0.9,0.9) ,\n",
    "                row_axis = 0, col_axis = 1, channel_axis = 2))\n",
    "            augmented_image_labels.append(dataset_labels[num])\n",
    "\n",
    "    augmented_image = np.array(augmented_image).reshape(-1,28*28)\n",
    "    augmented_image_labels = np.array(augmented_image_labels)\n",
    "\n",
    "    return augmented_image, augmented_image_labels\n",
    "\n",
    "```\n",
    "\n",
    "Q3) \n",
    "\n",
    "```python\n",
    "    ### Q3 answer ###\n",
    "    fig = plt.figure(figsize=(15,10))\n",
    "    plt.subplot(1,5,1)\n",
    "    plt.title('Original image')\n",
    "    plt.imshow(x_train[0])\n",
    "    plt.subplot(1,5,2)\n",
    "    plt.title('Rotated image')\n",
    "    plt.imshow(x_train[1])\n",
    "    plt.subplot(1,5,3)\n",
    "    plt.title('Sheared image')\n",
    "    plt.imshow(x_train[2])\n",
    "    plt.subplot(1,5,4)\n",
    "    plt.title('Shifted image')\n",
    "    plt.imshow(x_train[3])\n",
    "    plt.subplot(1,5,5)\n",
    "    plt.title('Zoomed image')\n",
    "    plt.imshow(x_train[4])\n",
    "```"
   ]
  }
 ],
 "metadata": {
  "kernelspec": {
   "display_name": "Python 3",
   "language": "python",
   "name": "python3"
  },
  "language_info": {
   "codemirror_mode": {
    "name": "ipython",
    "version": 3
   },
   "file_extension": ".py",
   "mimetype": "text/x-python",
   "name": "python",
   "nbconvert_exporter": "python",
   "pygments_lexer": "ipython3",
   "version": "3.7.7"
  }
 },
 "nbformat": 4,
 "nbformat_minor": 4
}
