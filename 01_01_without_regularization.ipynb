{
 "cells": [
  {
   "cell_type": "markdown",
   "metadata": {},
   "source": [
    "# 1. Regularization\n",
    "\n",
    "## 1.1 Without Regularization\n",
    "\n",
    "\n",
    "오늘 우리는 양은호 교수님의 강의에서 **정규화(Regularization)** 개념과 Deep Networks에서 정규화를 할 수 있는 여러 가지 방법들에 대해 배웠습니다. 우리는 이번 실습에서 각 정규화 방법들이 실제로 Deep Neural Networks의 성능을 향상 시킬 수 있음을 확인해보고자 합니다. 우리는 이번 실습에서 MNIST 데이터 셋을 사용할 것입니다.\n",
    "\n",
    "MNIST 데이터 셋은 Computer Visison 알고리즘의 컨셉을 검증하기 위해 가장 많이 쓰이는 데이터 셋이라고 할 수 있습니다. MNIST 데이터 셋은 0부터 9까지의 숫자를 쓴 손글씨 이미지로 구성되어있으며 우리는 **각 손글씨 이미지가 어떤 숫자를 쓴 것인지를 맞추는 Supervised Learning Task**를 수행해보고자 합니다.\n",
    "\n",
    "![MNIST](images/01_mnist.png)\n",
    "\n",
    "정규화에 들어가기에 앞서 정규화를 추가하지 않고 MNIST의 Image Classification을 어떻게 수행할 수 있는지 알아보고자 합니다.  \n",
    "먼저 필요한 패키지들을 import 합니다. "
   ]
  },
  {
   "cell_type": "code",
   "execution_count": 1,
   "metadata": {},
   "outputs": [
    {
     "name": "stderr",
     "output_type": "stream",
     "text": [
      "/home/joonhyung/.local/lib/python3.6/site-packages/tensorflow/python/framework/dtypes.py:516: FutureWarning: Passing (type, 1) or '1type' as a synonym of type is deprecated; in a future version of numpy, it will be understood as (type, (1,)) / '(1,)type'.\n",
      "  _np_qint8 = np.dtype([(\"qint8\", np.int8, 1)])\n",
      "/home/joonhyung/.local/lib/python3.6/site-packages/tensorflow/python/framework/dtypes.py:517: FutureWarning: Passing (type, 1) or '1type' as a synonym of type is deprecated; in a future version of numpy, it will be understood as (type, (1,)) / '(1,)type'.\n",
      "  _np_quint8 = np.dtype([(\"quint8\", np.uint8, 1)])\n",
      "/home/joonhyung/.local/lib/python3.6/site-packages/tensorflow/python/framework/dtypes.py:518: FutureWarning: Passing (type, 1) or '1type' as a synonym of type is deprecated; in a future version of numpy, it will be understood as (type, (1,)) / '(1,)type'.\n",
      "  _np_qint16 = np.dtype([(\"qint16\", np.int16, 1)])\n",
      "/home/joonhyung/.local/lib/python3.6/site-packages/tensorflow/python/framework/dtypes.py:519: FutureWarning: Passing (type, 1) or '1type' as a synonym of type is deprecated; in a future version of numpy, it will be understood as (type, (1,)) / '(1,)type'.\n",
      "  _np_quint16 = np.dtype([(\"quint16\", np.uint16, 1)])\n",
      "/home/joonhyung/.local/lib/python3.6/site-packages/tensorflow/python/framework/dtypes.py:520: FutureWarning: Passing (type, 1) or '1type' as a synonym of type is deprecated; in a future version of numpy, it will be understood as (type, (1,)) / '(1,)type'.\n",
      "  _np_qint32 = np.dtype([(\"qint32\", np.int32, 1)])\n",
      "/home/joonhyung/.local/lib/python3.6/site-packages/tensorflow/python/framework/dtypes.py:525: FutureWarning: Passing (type, 1) or '1type' as a synonym of type is deprecated; in a future version of numpy, it will be understood as (type, (1,)) / '(1,)type'.\n",
      "  np_resource = np.dtype([(\"resource\", np.ubyte, 1)])\n",
      "/home/joonhyung/.local/lib/python3.6/site-packages/tensorboard/compat/tensorflow_stub/dtypes.py:541: FutureWarning: Passing (type, 1) or '1type' as a synonym of type is deprecated; in a future version of numpy, it will be understood as (type, (1,)) / '(1,)type'.\n",
      "  _np_qint8 = np.dtype([(\"qint8\", np.int8, 1)])\n",
      "/home/joonhyung/.local/lib/python3.6/site-packages/tensorboard/compat/tensorflow_stub/dtypes.py:542: FutureWarning: Passing (type, 1) or '1type' as a synonym of type is deprecated; in a future version of numpy, it will be understood as (type, (1,)) / '(1,)type'.\n",
      "  _np_quint8 = np.dtype([(\"quint8\", np.uint8, 1)])\n",
      "/home/joonhyung/.local/lib/python3.6/site-packages/tensorboard/compat/tensorflow_stub/dtypes.py:543: FutureWarning: Passing (type, 1) or '1type' as a synonym of type is deprecated; in a future version of numpy, it will be understood as (type, (1,)) / '(1,)type'.\n",
      "  _np_qint16 = np.dtype([(\"qint16\", np.int16, 1)])\n",
      "/home/joonhyung/.local/lib/python3.6/site-packages/tensorboard/compat/tensorflow_stub/dtypes.py:544: FutureWarning: Passing (type, 1) or '1type' as a synonym of type is deprecated; in a future version of numpy, it will be understood as (type, (1,)) / '(1,)type'.\n",
      "  _np_quint16 = np.dtype([(\"quint16\", np.uint16, 1)])\n",
      "/home/joonhyung/.local/lib/python3.6/site-packages/tensorboard/compat/tensorflow_stub/dtypes.py:545: FutureWarning: Passing (type, 1) or '1type' as a synonym of type is deprecated; in a future version of numpy, it will be understood as (type, (1,)) / '(1,)type'.\n",
      "  _np_qint32 = np.dtype([(\"qint32\", np.int32, 1)])\n",
      "/home/joonhyung/.local/lib/python3.6/site-packages/tensorboard/compat/tensorflow_stub/dtypes.py:550: FutureWarning: Passing (type, 1) or '1type' as a synonym of type is deprecated; in a future version of numpy, it will be understood as (type, (1,)) / '(1,)type'.\n",
      "  np_resource = np.dtype([(\"resource\", np.ubyte, 1)])\n"
     ]
    }
   ],
   "source": [
    "import math\n",
    "import random \n",
    "\n",
    "import tensorflow as tf\n",
    "import numpy as np "
   ]
  },
  {
   "cell_type": "markdown",
   "metadata": {},
   "source": [
    "실험의 Randomness를 없애기 위해 random seed를 고정합니다. seed가 바뀔 때마다 결과가 바뀜을 확인하실 수 있을 것입니다. "
   ]
  },
  {
   "cell_type": "code",
   "execution_count": 2,
   "metadata": {},
   "outputs": [],
   "source": [
    "seed = 1\n",
    "random.seed(seed)\n",
    "np.random.seed(seed=seed)\n",
    "tf.random.set_random_seed(seed)"
   ]
  },
  {
   "cell_type": "markdown",
   "metadata": {},
   "source": [
    "`tf.keras.datasets` 패키지를 이용해 데이터를 로드합니다. 이 패키지에는 MNIST 말고도 Fashion MNIST, CIFAR-10, CIFAR-100 데이터 셋도 포함되어 있습니다. 다른 데이터 셋으로 테스트해보고 싶으시다면 [여기](https://www.tensorflow.org/api_docs/python/tf/keras/datasets)를 참고하시면 됩니다. (만약 Fashion MNIST를 사용해 학습을 진행하고 싶으시다면, `tf.keras.datasets.mnist.load_data()` 이 부분을 `tf.keras.datasets.fashion_mnist.load_data()`로 변경해 학습을 진행하시면 됩니다.)"
   ]
  },
  {
   "cell_type": "code",
   "execution_count": 3,
   "metadata": {},
   "outputs": [
    {
     "name": "stdout",
     "output_type": "stream",
     "text": [
      "(60000, 28, 28)\n",
      "(60000,)\n",
      "(10000, 28, 28)\n",
      "(10000,)\n"
     ]
    }
   ],
   "source": [
    "(x_train, y_train), (x_test, y_test) = tf.keras.datasets.mnist.load_data()\n",
    "print(x_train.shape)\n",
    "print(y_train.shape)\n",
    "print(x_test.shape)\n",
    "print(y_test.shape)"
   ]
  },
  {
   "cell_type": "markdown",
   "metadata": {},
   "source": [
    "여기에서 알 수 있듯, MNIST 데이터 셋은 총 **6만개의 training data** 와 **1만개의 test data** 로 구성되어 있습니다. 일단, 우리는 월요일에 배웠던 MLP(Multi Layer Perceptron, Feed Forward Networks)를 이용해 학습을 진행할 것이므로, `x_train`과 `x_test`의 모양을 변경해주어야 합니다. "
   ]
  },
  {
   "cell_type": "code",
   "execution_count": 4,
   "metadata": {},
   "outputs": [
    {
     "name": "stdout",
     "output_type": "stream",
     "text": [
      "(60000, 784)\n",
      "(10000, 784)\n"
     ]
    }
   ],
   "source": [
    "x_train = x_train.reshape(-1, 28 * 28)\n",
    "x_test = x_test.reshape(-1, 28 * 28)\n",
    "print(x_train.shape)\n",
    "print(x_test.shape)"
   ]
  },
  {
   "cell_type": "markdown",
   "metadata": {},
   "source": [
    "한편, MNIST 데이터 셋은 [여기](https://en.wikipedia.org/wiki/MNIST_database)에서 확인할 수 있듯, MLP로 학습할 때 성능이 좋습니다. 열심히 설계하면 1% 미만의 Test Error를 내는 Networks를 구성하는 것은 그리 어려운 일이 아닙니다. 우리는 이번 실습에서 정규화의 효과를 더 잘 확인하기 위해 트레이닝 데이터 셋을 총 6만개에서 1100개로 줄이고자 합니다. (더 어려운 데이터 셋을 사용할 수는 있지만, 데이터 셋이 많으면 실습 시간 동안 1번 실험의 결과를 확인하는 데 오래 걸리기 때문에 빠르게 확인해볼 수 있도록 데이터 셋 사이즈를 줄이는 방식을 선택했습니다.)"
   ]
  },
  {
   "cell_type": "code",
   "execution_count": 5,
   "metadata": {},
   "outputs": [
    {
     "name": "stdout",
     "output_type": "stream",
     "text": [
      "(1100, 784)\n",
      "(1100,)\n"
     ]
    }
   ],
   "source": [
    "m = np.random.randint(0, high=60000, size=1100, dtype=np.int64)\n",
    "x_train = x_train[m]\n",
    "y_train = y_train[m]\n",
    "print(x_train.shape)\n",
    "print(y_train.shape)"
   ]
  },
  {
   "cell_type": "markdown",
   "metadata": {},
   "source": [
    "(만약 다른 데이터셋을 이용해 학습을 진행하고 싶으시다면, `x_train`, `y_train`, `x_test`, `y_test`만 형식에 맞게 수정해주시면 됩니다.)\n",
    "\n",
    "Network의 input x와 output y를 정의합니다."
   ]
  },
  {
   "cell_type": "code",
   "execution_count": 6,
   "metadata": {},
   "outputs": [],
   "source": [
    "x = tf.placeholder(tf.float32, [None, 28 * 28])\n",
    "y = tf.placeholder(tf.int32, [None])"
   ]
  },
  {
   "cell_type": "markdown",
   "metadata": {},
   "source": [
    "네트워크 각 layer의 파라미터들(weight, bias)을 초기화 합니다. Layer 3개짜리 네트워크를 구성합니다. \n",
    "(가장 많이 사용되는 초기화 방법 중 하나인 Kaiming He Initialization을 사용하지만, layer가 2개 정도 되는 networks에서는 초기화는 그리 중요하지 않습니다.)"
   ]
  },
  {
   "cell_type": "code",
   "execution_count": 7,
   "metadata": {},
   "outputs": [],
   "source": [
    "n_units = [28 * 28, 512, 512, 10]\n",
    "\n",
    "weights, biases = [], []\n",
    "for i, (n_in, n_out) in enumerate(zip(n_units[:-1], n_units[1:])):\n",
    "    stddev = math.sqrt(2 / n_in) # Kaiming He Initialization\n",
    "    weight = tf.Variable(tf.random.truncated_normal([n_in, n_out], mean=0, stddev=stddev))\n",
    "    bias = tf.Variable(tf.zeros([n_out]))\n",
    "    weights.append(weight)\n",
    "    biases.append(bias)"
   ]
  },
  {
   "cell_type": "markdown",
   "metadata": {},
   "source": [
    "network parameter(weight)를 이용해 network의 output인 `y_hat`을 정의합니다. (마지막 layer에는 activation function을 추가하지 않습니다.)"
   ]
  },
  {
   "cell_type": "code",
   "execution_count": 8,
   "metadata": {},
   "outputs": [],
   "source": [
    "layer = x \n",
    "for i, (weight, bias) in enumerate(zip(weights, biases)):\n",
    "    layer = tf.matmul(layer, weight) + bias\n",
    "    if i < len(weights) - 1:\n",
    "        layer = tf.nn.tanh(layer)        \n",
    "y_hat = layer"
   ]
  },
  {
   "cell_type": "markdown",
   "metadata": {},
   "source": [
    "이제 실제 y와 네트워크의 예측값인 `y_hat`의 차이를 이용해 loss를 계산합니다. "
   ]
  },
  {
   "cell_type": "code",
   "execution_count": 9,
   "metadata": {},
   "outputs": [],
   "source": [
    "y_hot = tf.one_hot(y, 10)\n",
    "costs = tf.nn.softmax_cross_entropy_with_logits_v2(\n",
    "        labels=y_hot, logits=y_hat)\n",
    "cross_entropy_loss = tf.reduce_mean(costs)\n",
    "loss = cross_entropy_loss \n",
    "\n",
    "accuracy = tf.count_nonzero(\n",
    "        tf.cast(tf.equal(tf.argmax(y_hot, 1), tf.argmax(y_hat, 1)),\n",
    "                tf.int64)) / tf.cast(tf.shape(y_hot)[0], tf.int64)"
   ]
  },
  {
   "cell_type": "markdown",
   "metadata": {},
   "source": [
    "Optimizer를 선언하고, `train_op`를 정의합니다."
   ]
  },
  {
   "cell_type": "code",
   "execution_count": 10,
   "metadata": {},
   "outputs": [],
   "source": [
    "extra_ops = tf.get_collection(tf.GraphKeys.UPDATE_OPS)\n",
    "with tf.control_dependencies(extra_ops):\n",
    "    optimizer = tf.train.AdamOptimizer(1e-3)\n",
    "    train_op = optimizer.minimize(loss)"
   ]
  },
  {
   "cell_type": "markdown",
   "metadata": {},
   "source": [
    "세션을 정의하고 초기화 합니다. "
   ]
  },
  {
   "cell_type": "code",
   "execution_count": 11,
   "metadata": {},
   "outputs": [],
   "source": [
    "gpu_options = tf.GPUOptions()\n",
    "gpu_options.allow_growth = True\n",
    "session = tf.Session(config=tf.ConfigProto(gpu_options=gpu_options))\n",
    "session.run(tf.global_variables_initializer())"
   ]
  },
  {
   "cell_type": "markdown",
   "metadata": {},
   "source": [
    "각 Epoch별 train/test accuracy, loss를 측정하기 위한 리스트 변수들을 선언합니다."
   ]
  },
  {
   "cell_type": "code",
   "execution_count": 12,
   "metadata": {},
   "outputs": [],
   "source": [
    "train_accuracy_values, test_accuracy_values = [], []\n",
    "train_loss_values, test_loss_values = [], []"
   ]
  },
  {
   "cell_type": "markdown",
   "metadata": {},
   "source": [
    "학습을 진행합니다. 총 1000번의 Epoch을 수행합니다."
   ]
  },
  {
   "cell_type": "code",
   "execution_count": 13,
   "metadata": {},
   "outputs": [
    {
     "name": "stdout",
     "output_type": "stream",
     "text": [
      "Epoch   0 Train Loss: 1.6308 Test Loss: 1.6731 Train Accuracy: 0.4773 Test Accuracy: 0.4604\n",
      "Epoch  10 Train Loss: 0.1886 Test Loss: 0.4532 Train Accuracy: 0.9600 Test Accuracy: 0.8601\n",
      "Epoch  20 Train Loss: 0.0464 Test Loss: 0.3949 Train Accuracy: 0.9973 Test Accuracy: 0.8777\n",
      "Epoch  30 Train Loss: 0.0151 Test Loss: 0.3880 Train Accuracy: 1.0000 Test Accuracy: 0.8830\n",
      "Epoch  40 Train Loss: 0.0075 Test Loss: 0.3861 Train Accuracy: 1.0000 Test Accuracy: 0.8855\n",
      "Epoch  50 Train Loss: 0.0049 Test Loss: 0.3867 Train Accuracy: 1.0000 Test Accuracy: 0.8873\n",
      "Epoch  60 Train Loss: 0.0037 Test Loss: 0.3907 Train Accuracy: 1.0000 Test Accuracy: 0.8859\n",
      "Epoch  70 Train Loss: 0.0030 Test Loss: 0.3935 Train Accuracy: 1.0000 Test Accuracy: 0.8859\n",
      "Epoch  80 Train Loss: 0.0026 Test Loss: 0.3951 Train Accuracy: 1.0000 Test Accuracy: 0.8858\n",
      "Epoch  90 Train Loss: 0.0022 Test Loss: 0.3967 Train Accuracy: 1.0000 Test Accuracy: 0.8863\n",
      "Epoch 100 Train Loss: 0.0020 Test Loss: 0.3981 Train Accuracy: 1.0000 Test Accuracy: 0.8859\n",
      "Epoch 110 Train Loss: 0.0018 Test Loss: 0.3994 Train Accuracy: 1.0000 Test Accuracy: 0.8860\n",
      "Epoch 120 Train Loss: 0.0016 Test Loss: 0.4008 Train Accuracy: 1.0000 Test Accuracy: 0.8861\n",
      "Epoch 130 Train Loss: 0.0015 Test Loss: 0.4020 Train Accuracy: 1.0000 Test Accuracy: 0.8866\n",
      "Epoch 140 Train Loss: 0.0014 Test Loss: 0.4034 Train Accuracy: 1.0000 Test Accuracy: 0.8862\n",
      "Epoch 150 Train Loss: 0.0013 Test Loss: 0.4046 Train Accuracy: 1.0000 Test Accuracy: 0.8865\n",
      "Epoch 160 Train Loss: 0.0012 Test Loss: 0.4059 Train Accuracy: 1.0000 Test Accuracy: 0.8865\n",
      "Epoch 170 Train Loss: 0.0011 Test Loss: 0.4072 Train Accuracy: 1.0000 Test Accuracy: 0.8862\n",
      "Epoch 180 Train Loss: 0.0010 Test Loss: 0.4084 Train Accuracy: 1.0000 Test Accuracy: 0.8860\n",
      "Epoch 190 Train Loss: 0.0009 Test Loss: 0.4096 Train Accuracy: 1.0000 Test Accuracy: 0.8860\n",
      "Epoch 200 Train Loss: 0.0009 Test Loss: 0.4108 Train Accuracy: 1.0000 Test Accuracy: 0.8860\n",
      "Epoch 210 Train Loss: 0.0008 Test Loss: 0.4121 Train Accuracy: 1.0000 Test Accuracy: 0.8862\n",
      "Epoch 220 Train Loss: 0.0008 Test Loss: 0.4133 Train Accuracy: 1.0000 Test Accuracy: 0.8866\n",
      "Epoch 230 Train Loss: 0.0007 Test Loss: 0.4143 Train Accuracy: 1.0000 Test Accuracy: 0.8867\n",
      "Epoch 240 Train Loss: 0.0007 Test Loss: 0.4152 Train Accuracy: 1.0000 Test Accuracy: 0.8868\n",
      "Epoch 250 Train Loss: 0.0007 Test Loss: 0.4161 Train Accuracy: 1.0000 Test Accuracy: 0.8864\n",
      "Epoch 260 Train Loss: 0.0006 Test Loss: 0.4171 Train Accuracy: 1.0000 Test Accuracy: 0.8864\n",
      "Epoch 270 Train Loss: 0.0006 Test Loss: 0.4181 Train Accuracy: 1.0000 Test Accuracy: 0.8862\n",
      "Epoch 280 Train Loss: 0.0006 Test Loss: 0.4190 Train Accuracy: 1.0000 Test Accuracy: 0.8861\n",
      "Epoch 290 Train Loss: 0.0005 Test Loss: 0.4199 Train Accuracy: 1.0000 Test Accuracy: 0.8859\n",
      "Epoch 300 Train Loss: 0.0005 Test Loss: 0.4208 Train Accuracy: 1.0000 Test Accuracy: 0.8861\n",
      "Epoch 310 Train Loss: 0.0005 Test Loss: 0.4217 Train Accuracy: 1.0000 Test Accuracy: 0.8864\n",
      "Epoch 320 Train Loss: 0.0005 Test Loss: 0.4227 Train Accuracy: 1.0000 Test Accuracy: 0.8862\n",
      "Epoch 330 Train Loss: 0.0005 Test Loss: 0.4236 Train Accuracy: 1.0000 Test Accuracy: 0.8861\n",
      "Epoch 340 Train Loss: 0.0004 Test Loss: 0.4244 Train Accuracy: 1.0000 Test Accuracy: 0.8859\n",
      "Epoch 350 Train Loss: 0.0004 Test Loss: 0.4252 Train Accuracy: 1.0000 Test Accuracy: 0.8856\n",
      "Epoch 360 Train Loss: 0.0004 Test Loss: 0.4261 Train Accuracy: 1.0000 Test Accuracy: 0.8859\n",
      "Epoch 370 Train Loss: 0.0004 Test Loss: 0.4270 Train Accuracy: 1.0000 Test Accuracy: 0.8859\n",
      "Epoch 380 Train Loss: 0.0004 Test Loss: 0.4279 Train Accuracy: 1.0000 Test Accuracy: 0.8860\n",
      "Epoch 390 Train Loss: 0.0004 Test Loss: 0.4287 Train Accuracy: 1.0000 Test Accuracy: 0.8861\n",
      "Epoch 400 Train Loss: 0.0003 Test Loss: 0.4295 Train Accuracy: 1.0000 Test Accuracy: 0.8862\n",
      "Epoch 410 Train Loss: 0.0003 Test Loss: 0.4304 Train Accuracy: 1.0000 Test Accuracy: 0.8861\n",
      "Epoch 420 Train Loss: 0.0003 Test Loss: 0.4311 Train Accuracy: 1.0000 Test Accuracy: 0.8860\n",
      "Epoch 430 Train Loss: 0.0003 Test Loss: 0.4318 Train Accuracy: 1.0000 Test Accuracy: 0.8859\n",
      "Epoch 440 Train Loss: 0.0003 Test Loss: 0.4327 Train Accuracy: 1.0000 Test Accuracy: 0.8858\n",
      "Epoch 450 Train Loss: 0.0003 Test Loss: 0.4336 Train Accuracy: 1.0000 Test Accuracy: 0.8858\n",
      "Epoch 460 Train Loss: 0.0003 Test Loss: 0.4344 Train Accuracy: 1.0000 Test Accuracy: 0.8858\n",
      "Epoch 470 Train Loss: 0.0003 Test Loss: 0.4351 Train Accuracy: 1.0000 Test Accuracy: 0.8859\n",
      "Epoch 480 Train Loss: 0.0003 Test Loss: 0.4359 Train Accuracy: 1.0000 Test Accuracy: 0.8863\n",
      "Epoch 490 Train Loss: 0.0003 Test Loss: 0.4366 Train Accuracy: 1.0000 Test Accuracy: 0.8863\n",
      "Epoch 500 Train Loss: 0.0003 Test Loss: 0.4373 Train Accuracy: 1.0000 Test Accuracy: 0.8865\n",
      "Epoch 510 Train Loss: 0.0002 Test Loss: 0.4381 Train Accuracy: 1.0000 Test Accuracy: 0.8862\n",
      "Epoch 520 Train Loss: 0.0002 Test Loss: 0.4388 Train Accuracy: 1.0000 Test Accuracy: 0.8861\n",
      "Epoch 530 Train Loss: 0.0002 Test Loss: 0.4395 Train Accuracy: 1.0000 Test Accuracy: 0.8862\n",
      "Epoch 540 Train Loss: 0.0002 Test Loss: 0.4402 Train Accuracy: 1.0000 Test Accuracy: 0.8861\n",
      "Epoch 550 Train Loss: 0.0002 Test Loss: 0.4409 Train Accuracy: 1.0000 Test Accuracy: 0.8861\n",
      "Epoch 560 Train Loss: 0.0002 Test Loss: 0.4415 Train Accuracy: 1.0000 Test Accuracy: 0.8859\n",
      "Epoch 570 Train Loss: 0.0002 Test Loss: 0.4421 Train Accuracy: 1.0000 Test Accuracy: 0.8856\n",
      "Epoch 580 Train Loss: 0.0002 Test Loss: 0.4427 Train Accuracy: 1.0000 Test Accuracy: 0.8855\n",
      "Epoch 590 Train Loss: 0.0002 Test Loss: 0.4434 Train Accuracy: 1.0000 Test Accuracy: 0.8856\n",
      "Epoch 600 Train Loss: 0.0002 Test Loss: 0.4441 Train Accuracy: 1.0000 Test Accuracy: 0.8858\n",
      "Epoch 610 Train Loss: 0.0002 Test Loss: 0.4447 Train Accuracy: 1.0000 Test Accuracy: 0.8856\n",
      "Epoch 620 Train Loss: 0.0002 Test Loss: 0.4453 Train Accuracy: 1.0000 Test Accuracy: 0.8856\n",
      "Epoch 630 Train Loss: 0.0002 Test Loss: 0.4459 Train Accuracy: 1.0000 Test Accuracy: 0.8858\n",
      "Epoch 640 Train Loss: 0.0002 Test Loss: 0.4465 Train Accuracy: 1.0000 Test Accuracy: 0.8858\n",
      "Epoch 650 Train Loss: 0.0002 Test Loss: 0.4471 Train Accuracy: 1.0000 Test Accuracy: 0.8858\n",
      "Epoch 660 Train Loss: 0.0002 Test Loss: 0.4477 Train Accuracy: 1.0000 Test Accuracy: 0.8860\n",
      "Epoch 670 Train Loss: 0.0002 Test Loss: 0.4483 Train Accuracy: 1.0000 Test Accuracy: 0.8861\n",
      "Epoch 680 Train Loss: 0.0002 Test Loss: 0.4488 Train Accuracy: 1.0000 Test Accuracy: 0.8861\n",
      "Epoch 690 Train Loss: 0.0002 Test Loss: 0.4494 Train Accuracy: 1.0000 Test Accuracy: 0.8861\n",
      "Epoch 700 Train Loss: 0.0001 Test Loss: 0.4500 Train Accuracy: 1.0000 Test Accuracy: 0.8861\n",
      "Epoch 710 Train Loss: 0.0001 Test Loss: 0.4506 Train Accuracy: 1.0000 Test Accuracy: 0.8861\n",
      "Epoch 720 Train Loss: 0.0001 Test Loss: 0.4511 Train Accuracy: 1.0000 Test Accuracy: 0.8861\n",
      "Epoch 730 Train Loss: 0.0001 Test Loss: 0.4517 Train Accuracy: 1.0000 Test Accuracy: 0.8861\n",
      "Epoch 740 Train Loss: 0.0001 Test Loss: 0.4522 Train Accuracy: 1.0000 Test Accuracy: 0.8860\n",
      "Epoch 750 Train Loss: 0.0001 Test Loss: 0.4527 Train Accuracy: 1.0000 Test Accuracy: 0.8860\n",
      "Epoch 760 Train Loss: 0.0001 Test Loss: 0.4533 Train Accuracy: 1.0000 Test Accuracy: 0.8860\n",
      "Epoch 770 Train Loss: 0.0001 Test Loss: 0.4538 Train Accuracy: 1.0000 Test Accuracy: 0.8861\n",
      "Epoch 780 Train Loss: 0.0001 Test Loss: 0.4543 Train Accuracy: 1.0000 Test Accuracy: 0.8861\n",
      "Epoch 790 Train Loss: 0.0001 Test Loss: 0.4548 Train Accuracy: 1.0000 Test Accuracy: 0.8861\n",
      "Epoch 800 Train Loss: 0.0001 Test Loss: 0.4552 Train Accuracy: 1.0000 Test Accuracy: 0.8862\n",
      "Epoch 810 Train Loss: 0.0001 Test Loss: 0.4556 Train Accuracy: 1.0000 Test Accuracy: 0.8863\n",
      "Epoch 820 Train Loss: 0.0001 Test Loss: 0.4561 Train Accuracy: 1.0000 Test Accuracy: 0.8863\n",
      "Epoch 830 Train Loss: 0.0001 Test Loss: 0.4566 Train Accuracy: 1.0000 Test Accuracy: 0.8865\n",
      "Epoch 840 Train Loss: 0.0001 Test Loss: 0.4571 Train Accuracy: 1.0000 Test Accuracy: 0.8865\n",
      "Epoch 850 Train Loss: 0.0001 Test Loss: 0.4575 Train Accuracy: 1.0000 Test Accuracy: 0.8865\n",
      "Epoch 860 Train Loss: 0.0001 Test Loss: 0.4580 Train Accuracy: 1.0000 Test Accuracy: 0.8866\n",
      "Epoch 870 Train Loss: 0.0001 Test Loss: 0.4584 Train Accuracy: 1.0000 Test Accuracy: 0.8866\n",
      "Epoch 880 Train Loss: 0.0001 Test Loss: 0.4589 Train Accuracy: 1.0000 Test Accuracy: 0.8865\n",
      "Epoch 890 Train Loss: 0.0001 Test Loss: 0.4593 Train Accuracy: 1.0000 Test Accuracy: 0.8865\n"
     ]
    },
    {
     "name": "stdout",
     "output_type": "stream",
     "text": [
      "Epoch 900 Train Loss: 0.0001 Test Loss: 0.4597 Train Accuracy: 1.0000 Test Accuracy: 0.8867\n",
      "Epoch 910 Train Loss: 0.0001 Test Loss: 0.4602 Train Accuracy: 1.0000 Test Accuracy: 0.8867\n",
      "Epoch 920 Train Loss: 0.0001 Test Loss: 0.4606 Train Accuracy: 1.0000 Test Accuracy: 0.8866\n",
      "Epoch 930 Train Loss: 0.0001 Test Loss: 0.4611 Train Accuracy: 1.0000 Test Accuracy: 0.8866\n",
      "Epoch 940 Train Loss: 0.0001 Test Loss: 0.4615 Train Accuracy: 1.0000 Test Accuracy: 0.8865\n",
      "Epoch 950 Train Loss: 0.0001 Test Loss: 0.4620 Train Accuracy: 1.0000 Test Accuracy: 0.8865\n",
      "Epoch 960 Train Loss: 0.0001 Test Loss: 0.4625 Train Accuracy: 1.0000 Test Accuracy: 0.8864\n",
      "Epoch 970 Train Loss: 0.0001 Test Loss: 0.4629 Train Accuracy: 1.0000 Test Accuracy: 0.8864\n",
      "Epoch 980 Train Loss: 0.0001 Test Loss: 0.4634 Train Accuracy: 1.0000 Test Accuracy: 0.8865\n",
      "Epoch 990 Train Loss: 0.0001 Test Loss: 0.4638 Train Accuracy: 1.0000 Test Accuracy: 0.8864\n",
      "0.8873\n",
      "0.38605243\n"
     ]
    }
   ],
   "source": [
    "for epoch_idx in range(0, 1000):\n",
    "    session.run(\n",
    "            train_op,\n",
    "            feed_dict={\n",
    "                x: x_train,\n",
    "                y: y_train\n",
    "            })\n",
    "    \n",
    "    if epoch_idx % 10 == 0:\n",
    "        train_loss_value, train_accuracy_value = session.run(\n",
    "            [loss, accuracy],\n",
    "            feed_dict={\n",
    "                x: x_train,\n",
    "                y: y_train\n",
    "            })\n",
    "            \n",
    "        test_loss_value, test_accuracy_value = session.run(\n",
    "            [loss, accuracy],\n",
    "            feed_dict={\n",
    "                x: x_test,\n",
    "                y: y_test\n",
    "            })\n",
    "\n",
    "        print(\"Epoch\", '%3d'% epoch_idx,\"Train Loss:\", '%.4f' % train_loss_value, \"Test Loss:\",'%.4f' % test_loss_value,\n",
    "              \"Train Accuracy:\", '%.4f' % train_accuracy_value, \"Test Accuracy:\", '%.4f' % test_accuracy_value)\n",
    "        train_accuracy_values.append(train_accuracy_value)\n",
    "        test_accuracy_values.append(test_accuracy_value)\n",
    "\n",
    "        train_loss_values.append(train_loss_value)\n",
    "        test_loss_values.append(test_loss_value)\n",
    "        \n",
    "print(max(test_accuracy_values))\n",
    "print(min(test_loss_values))"
   ]
  },
  {
   "cell_type": "markdown",
   "metadata": {},
   "source": [
    "우리는 이 네트워크가 최고 88.73%의 Test Accuracy를 나타냄을 확인할 수 있었습니다. 이제 Epoch별 결과를 Graph로 확인해봅시다. "
   ]
  },
  {
   "cell_type": "code",
   "execution_count": 14,
   "metadata": {},
   "outputs": [
    {
     "data": {
      "image/png": "[encoded data removed]",
      "text/plain": [
       "<Figure size 432x288 with 1 Axes>"
      ]
     },
     "metadata": {
      "needs_background": "light"
     },
     "output_type": "display_data"
    }
   ],
   "source": [
    "%matplotlib inline\n",
    "import matplotlib.pyplot as plt\n",
    "plt.plot(train_accuracy_values, label=\"train\")\n",
    "plt.plot(test_accuracy_values, label=\"test\")\n",
    "plt.ylabel('Accuracy')\n",
    "plt.xlabel('Epoch x10')\n",
    "plt.ylim([0.85, 1.0])\n",
    "plt.axhline(y=max(test_accuracy_values), color='r', linestyle='-')\n",
    "plt.legend(loc='lower right')\n",
    "plt.show()"
   ]
  },
  {
   "cell_type": "markdown",
   "metadata": {},
   "source": [
    "학습이 많이 진행될 수록 Test Accuracy가 오히려 약간 줄어드는 현상을 발견할 수 있었습니다. Loss 관점에서 바라보면 Overfitting 현상을 더 적나라하게 확인할 수 있습니다. "
   ]
  },
  {
   "cell_type": "code",
   "execution_count": 15,
   "metadata": {
    "scrolled": false
   },
   "outputs": [
    {
     "data": {
      "image/png": "[encoded data removed]",
      "text/plain": [
       "<Figure size 432x288 with 1 Axes>"
      ]
     },
     "metadata": {
      "needs_background": "light"
     },
     "output_type": "display_data"
    }
   ],
   "source": [
    "import matplotlib.pyplot as plt\n",
    "plt.plot(train_loss_values, label=\"train\")\n",
    "plt.plot(test_loss_values, label=\"test\")\n",
    "plt.ylabel('Loss')\n",
    "plt.xlabel('Epoch x10')\n",
    "plt.axhline(y=min(test_loss_values), color='r', linestyle='-')\n",
    "plt.ylim([0, 0.45])\n",
    "plt.legend(loc='upper right')\n",
    "plt.show()"
   ]
  },
  {
   "cell_type": "markdown",
   "metadata": {},
   "source": [
    "우리는 3100번째 Epoch에서 가장 좋은 성능(88.73%)을 나타냄을 확인할 수 있었습니다. 우리는 이 모델의 성능을 88.73% 라고 할 수는 없습니다. 왜냐하면, 현실에서는 Test Accuracy를 사전에 알 수 없기 때문입니다. Training 데이터만을 이용해서 최적 Epoch을 찾고, 최적 Epoch에서의 Test Accuracy를 리포트해야 Fair하게 네트워크의 성능을 이야기할 수 있습니다. 다음 [실습](01_02_early_stop.ipynb)에서는 우리는 최적의 Epoch을 자동으로 찾을 수 있는 **Early Stop**에 대해서 배우고자 합니다. "
   ]
  }
 ],
 "metadata": {
  "kernelspec": {
   "display_name": "Python 3",
   "language": "python",
   "name": "python3"
  },
  "language_info": {
   "codemirror_mode": {
    "name": "ipython",
    "version": 3
   },
   "file_extension": ".py",
   "mimetype": "text/x-python",
   "name": "python",
   "nbconvert_exporter": "python",
   "pygments_lexer": "ipython3",
   "version": "3.6.9"
  }
 },
 "nbformat": 4,
 "nbformat_minor": 2
}
